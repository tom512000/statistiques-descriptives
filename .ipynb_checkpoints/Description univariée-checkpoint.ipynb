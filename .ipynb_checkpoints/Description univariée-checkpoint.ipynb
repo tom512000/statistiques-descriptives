{
 "cells": [
  {
   "cell_type": "markdown",
   "id": "723bcd2e",
   "metadata": {},
   "source": [
    "# Statistiques descriptives"
   ]
  },
  {
   "cell_type": "markdown",
   "id": "c9010ccc",
   "metadata": {},
   "source": [
    "# Description univariée"
   ]
  },
  {
   "cell_type": "markdown",
   "id": "bf037796",
   "metadata": {},
   "source": [
    "## 1 Préambule"
   ]
  },
  {
   "cell_type": "markdown",
   "id": "2f946fe4",
   "metadata": {},
   "source": [
    "### 1.1 Vocabulaire"
   ]
  },
  {
   "cell_type": "markdown",
   "id": "853847eb",
   "metadata": {},
   "source": [
    "- **Individu statistique** : chaque objet sur lequel on effectue des observations.\n",
    "- **Population ou échantillon** : ensemble des objets étudiés.\n",
    "- **Variable** : ensemble des valeurs issues de l’observation.\n",
    "- **jeu de données** : un ou plusieurs ensembles de variables observées."
   ]
  },
  {
   "cell_type": "markdown",
   "id": "582b1099",
   "metadata": {},
   "source": [
    "### 1.2 Codage"
   ]
  },
  {
   "cell_type": "markdown",
   "id": "325ecaa0",
   "metadata": {},
   "source": [
    "- Utilisation de valeurs numériques réelles ou/et entières.\n",
    "- Utilisation de texte."
   ]
  },
  {
   "cell_type": "markdown",
   "id": "06e74aa7",
   "metadata": {},
   "source": [
    "### 1.3 Types des variables"
   ]
  },
  {
   "cell_type": "markdown",
   "id": "7c43e1ce",
   "metadata": {},
   "source": [
    "- **Variables qualitatives** : pas quantifiables et caractérisées par des modalités comme des catégories ou classes.\n",
    "- **Variables quantitatives** : quantifiables et utilisent des valeurs numériques réelles."
   ]
  },
  {
   "cell_type": "markdown",
   "id": "ba4606a3",
   "metadata": {},
   "source": [
    "#### Exercice : Types de variables\n",
    "- Qualitative nominale --> Code postal de la résidence : 51100, 08200, 51120, 02150, ...\n",
    "- Quantitative continue --> Taille en cm : 184,164,178,192, ...\n",
    "- Qualitative nominale --> Série du BAC : G, T, G, G, ...\n",
    "- Quantitative continue --> Moyenne au S1 : 12.75, 10.5, 8.333, 15.125, ...\n",
    "- Quantitative discrète --> Satisfaction à propos de la formation : 1, 5, 3, 1, ..."
   ]
  },
  {
   "cell_type": "markdown",
   "id": "d3e0bd43",
   "metadata": {},
   "source": [
    "## 2 Préparation des données"
   ]
  },
  {
   "cell_type": "markdown",
   "id": "a93a7d26",
   "metadata": {},
   "source": [
    "#### Exercice : Modification d'une série"
   ]
  },
  {
   "cell_type": "code",
   "execution_count": 1,
   "id": "e2a77ddb",
   "metadata": {},
   "outputs": [],
   "source": [
    "def where_none(dat: list) -> list:\n",
    "    res = []\n",
    "    for i in range(len(dat)):\n",
    "        if dat[i] == None:\n",
    "            res += [i]\n",
    "    return res"
   ]
  },
  {
   "cell_type": "code",
   "execution_count": 5,
   "id": "77b5f711",
   "metadata": {},
   "outputs": [],
   "source": [
    "def remove_data(dat: list, pos: list) -> list:\n",
    "    res = []\n",
    "    for i in range(len(dat)):\n",
    "        if i not in pos:\n",
    "            res += [dat[i]]\n",
    "    return res"
   ]
  },
  {
   "cell_type": "code",
   "execution_count": 53,
   "id": "0673883a",
   "metadata": {},
   "outputs": [],
   "source": [
    "def replace_value(dat: list, value: list, repvalue: list) -> list:\n",
    "    res = dat.copy()\n",
    "    for i in range(len(res)):\n",
    "        for j in range(len(value)):\n",
    "            if res[i] == value[j]:\n",
    "                res[i] = repvalue[j]\n",
    "    return res"
   ]
  },
  {
   "cell_type": "code",
   "execution_count": 54,
   "id": "ba866b0d",
   "metadata": {},
   "outputs": [
    {
     "name": "stdout",
     "output_type": "stream",
     "text": [
      "[8, 18]\n"
     ]
    }
   ],
   "source": [
    "data1 = [11,5,6,7,5,2,3,6,None,1,2,5,4,9,6,3,5,8,None]\n",
    "data2 = [\"toto\",\"toto\",\"tata\",\"toto\",\"titi\",\"toto\",\"tata\",\"tata\"]\n",
    "data3 = [None, \"None\"]\n",
    "\n",
    "print(where_none(data1))"
   ]
  },
  {
   "cell_type": "code",
   "execution_count": 55,
   "id": "76b7517c",
   "metadata": {},
   "outputs": [
    {
     "name": "stdout",
     "output_type": "stream",
     "text": [
      "[]\n"
     ]
    }
   ],
   "source": [
    "print(where_none(data2))"
   ]
  },
  {
   "cell_type": "code",
   "execution_count": 56,
   "id": "adfe8946",
   "metadata": {},
   "outputs": [
    {
     "name": "stdout",
     "output_type": "stream",
     "text": [
      "[0]\n"
     ]
    }
   ],
   "source": [
    "print(where_none(data3))"
   ]
  },
  {
   "cell_type": "code",
   "execution_count": 57,
   "id": "8388f50b",
   "metadata": {},
   "outputs": [
    {
     "name": "stdout",
     "output_type": "stream",
     "text": [
      "[11, 5, 6, 7, 5, 2, 3, 6, 1, 2, 5, 4, 9, 6, 3, 5, 8]\n"
     ]
    }
   ],
   "source": [
    "print(remove_data(data1,where_none(data1)))"
   ]
  },
  {
   "cell_type": "code",
   "execution_count": 58,
   "id": "4f7a4792",
   "metadata": {},
   "outputs": [
    {
     "name": "stdout",
     "output_type": "stream",
     "text": [
      "[11, 5, 6, 7, 5, 2, 3, 6, None, 1, 2, 5, 4, 9, 6, 3, 5, 8, None]\n"
     ]
    },
    {
     "data": {
      "text/plain": [
       "[-11, 5, 6, 7, 5, 2, 3, 6, 0, 1, 2, 5, 4, 9, 6, 3, 5, -8, 0]"
      ]
     },
     "execution_count": 58,
     "metadata": {},
     "output_type": "execute_result"
    }
   ],
   "source": [
    "print(data1)\n",
    "replace_value(data1,[8,11,None],[-8,-11,0])"
   ]
  },
  {
   "cell_type": "markdown",
   "id": "342a61fa",
   "metadata": {},
   "source": [
    "#### Exercice  : Discrétisation"
   ]
  },
  {
   "cell_type": "code",
   "execution_count": 72,
   "id": "b397bdda",
   "metadata": {},
   "outputs": [],
   "source": [
    "def cut(dat: list, split: list) -> list:\n",
    "    res = []\n",
    "    for i in range (len(dat)):\n",
    "        for j in range(0, len(split)):\n",
    "            if (dat[i] >= split[j-1]) and (dat[i] <= split[j]):\n",
    "                res += [f'{split[j-1]}, {split[j]}']\n",
    "    return res"
   ]
  },
  {
   "cell_type": "code",
   "execution_count": 73,
   "id": "c57839a5",
   "metadata": {},
   "outputs": [
    {
     "name": "stdout",
     "output_type": "stream",
     "text": [
      "[7.21, 5.48, 19.3, 16.81, 0.28, 1.3, 17.75, 16.91, 13.99, 7.4]\n"
     ]
    }
   ],
   "source": [
    "# Générons des données aléatoires (des float arrondis à 10^-2 entre 0 et 20)\n",
    "import random\n",
    "data = [round(random.random()*20,2) for _ in range(10)]\n",
    "print(data)"
   ]
  },
  {
   "cell_type": "code",
   "execution_count": 75,
   "id": "1093ae16",
   "metadata": {},
   "outputs": [
    {
     "data": {
      "text/plain": [
       "['5, 10',\n",
       " '5, 10',\n",
       " '15, 20',\n",
       " '15, 20',\n",
       " '0, 5',\n",
       " '0, 5',\n",
       " '15, 20',\n",
       " '15, 20',\n",
       " '10, 15',\n",
       " '5, 10']"
      ]
     },
     "execution_count": 75,
     "metadata": {},
     "output_type": "execute_result"
    }
   ],
   "source": [
    "# Discrétisation\n",
    "cut(dat=data, split=[0,5,10,15,20])"
   ]
  },
  {
   "cell_type": "markdown",
   "id": "0eb9fa9f",
   "metadata": {},
   "source": [
    "## 3 Statistiques univariées"
   ]
  },
  {
   "cell_type": "markdown",
   "id": "e432f0ec",
   "metadata": {},
   "source": [
    "### 3.1 Distribution groupée"
   ]
  },
  {
   "cell_type": "markdown",
   "id": "371fcf0b",
   "metadata": {},
   "source": [
    "#### Exercice : Distribution groupée"
   ]
  },
  {
   "cell_type": "code",
   "execution_count": 122,
   "id": "9997fdcd",
   "metadata": {},
   "outputs": [],
   "source": [
    "def get_gdistr(dat: list) -> dict:\n",
    "    dictio = {}\n",
    "    for i in range(len(dat)):\n",
    "        if dat[i] in dictio:\n",
    "            dictio[dat[i]] += 1\n",
    "        else:\n",
    "            dictio[dat[i]] = 1\n",
    "    for j in dictio.keys():\n",
    "        dictio[j] = (dictio[j], dictio[j]/len(dat))\n",
    "    return dictio"
   ]
  },
  {
   "cell_type": "code",
   "execution_count": 123,
   "id": "a3ecfa46",
   "metadata": {},
   "outputs": [],
   "source": [
    "# Données de test\n",
    "data = [\"toto\",\"toto\",\"tata\",\"toto\",\"titi\",\n",
    "        \"toto\",\"tata\",\"tata\",\"toto\",\"toto\",\n",
    "        \"toto\",\"toto\",\"titi\",\"toto\",\"titi\",\n",
    "        \"tata\",\"toto\",\"tata\",\"tata\",\"toto\"]"
   ]
  },
  {
   "cell_type": "code",
   "execution_count": 124,
   "id": "d6d8a972",
   "metadata": {},
   "outputs": [
    {
     "name": "stdout",
     "output_type": "stream",
     "text": [
      "{'toto': (11, 0.55), 'tata': (6, 0.3), 'titi': (3, 0.15)}\n"
     ]
    }
   ],
   "source": [
    "# Construction de la ditribution groupée\n",
    "gd_data = get_gdistr(data)\n",
    "\n",
    "# Affichage\n",
    "print(gd_data)"
   ]
  },
  {
   "cell_type": "code",
   "execution_count": 125,
   "id": "39029e0d",
   "metadata": {},
   "outputs": [],
   "source": [
    "# Fonction pour un plus chouette affichage\n",
    "def pprint_gd(gd):\n",
    "    mod_max_size  = max([len(str(m)) for m in gd.keys()]+[len(\"Modalité\")])\n",
    "    eff_max_size  = max([len(str(gd[m][0])) for m in gd.keys()]+[len(\"Effectif\")])\n",
    "    freq_max_size = max([len(str(gd[m][1])) for m in gd.keys()]+[len(\"Fréquence\")])\n",
    "    print('-'*(mod_max_size+3+eff_max_size+3+freq_max_size+3))\n",
    "    print(\"Modalité\".ljust(mod_max_size+3,' ')+\"Effectif\".rjust(eff_max_size+3,' ')+\"Fréquence\".rjust(freq_max_size+3,' '))\n",
    "    print('-'*(mod_max_size+3+eff_max_size+3+freq_max_size+3))\n",
    "    for k in gd.keys():\n",
    "        print(str(k).ljust(mod_max_size+3,' ')+str(gd[k][0]).rjust(eff_max_size+3,' ')+str(gd[k][1]).rjust(freq_max_size+3,' '))\n",
    "    return None"
   ]
  },
  {
   "cell_type": "code",
   "execution_count": 127,
   "id": "11fe6061",
   "metadata": {},
   "outputs": [
    {
     "name": "stdout",
     "output_type": "stream",
     "text": [
      "----------------------------------\n",
      "Modalité      Effectif   Fréquence\n",
      "----------------------------------\n",
      "toto                11        0.55\n",
      "tata                 6         0.3\n",
      "titi                 3        0.15\n"
     ]
    }
   ],
   "source": [
    "pprint_gd(gd_data)"
   ]
  },
  {
   "cell_type": "code",
   "execution_count": 128,
   "id": "4c6a21bd",
   "metadata": {},
   "outputs": [
    {
     "name": "stdout",
     "output_type": "stream",
     "text": [
      "Données initiales :  [8.03, 3.64, 2.7, 17.88, 11.06, 19.54, 5.24, 19.9, 12.4, 18.0] \n",
      "\n",
      "Données dicrétisées :  ['5, 10', '0, 5', '0, 5', '15, 20', '10, 15', '15, 20', '5, 10', '15, 20', '10, 15', '15, 20'] \n",
      "\n",
      "Tableau de la distribution groupée :\n",
      "----------------------------------\n",
      "Modalité      Effectif   Fréquence\n",
      "----------------------------------\n",
      "5, 10                2         0.2\n",
      "0, 5                 2         0.2\n",
      "15, 20               4         0.4\n",
      "10, 15               2         0.2\n"
     ]
    }
   ],
   "source": [
    "# Générons des données aléatoires (des float arrondis à 10^-2 entre 0 et 20)\n",
    "import random\n",
    "data = [round(random.random()*20,2) for _ in range(10)]\n",
    "print(\"Données initiales : \",data,\"\\n\")\n",
    "data2 = cut(dat=data, split=[0,5,10,15,20])\n",
    "print(\"Données dicrétisées : \",data2,\"\\n\")\n",
    "print(\"Tableau de la distribution groupée :\")\n",
    "pprint_gd(get_gdistr(data2))"
   ]
  },
  {
   "cell_type": "markdown",
   "id": "ffca0206",
   "metadata": {},
   "source": [
    "### 3.2 Distribution d’une variable quantitative"
   ]
  },
  {
   "cell_type": "markdown",
   "id": "e3f86015",
   "metadata": {},
   "source": [
    "Indicateurs de position :\n",
    "- **Moyenne** : somme des valeurs de la série divisé par leur nombre.\n",
    "- **Médiane** : la valeur qui sépare la série en deux parties de même effectif.\n",
    "- **Quantile** : la valeur qui sépare la série en deux parties (proportion p ou p*100% de valeurs dans la première partie)."
   ]
  },
  {
   "cell_type": "markdown",
   "id": "d93e7b36",
   "metadata": {},
   "source": [
    "Indicateurs de dispersion :\n",
    "- **Ecart-type** : la racine carrée de la moyenne des écarts au carré, entre les valeurs et leur moyenne.\n",
    "- **Coefficient de variation** : le rapport entre l’écart-type et la moyenne, exprimé comme un pourcentage de la moyenne.\n",
    "- **Etendue** : différence entre la plus grande valeur de la série et la plus petite.\n",
    "- **Ecart interquartiles** : différence entre le quantile à 0,75 et le quantile à 0,25."
   ]
  },
  {
   "cell_type": "markdown",
   "id": "37adc7fa",
   "metadata": {},
   "source": [
    "Indicateurs de forme :\n",
    "- **Coefficient d’asymétrie de Pearson** : 3 multiplié par la différence entre la moyenne et la médiane, divisée par l’écart-type.\n",
    "- **Coefficient d’applatissement (kurtosis)** : moyenne des écarts entre les valeurs et leur moyenne, élevés à la puissance 4, divisée par l’écart-type à la puissance 4."
   ]
  },
  {
   "cell_type": "markdown",
   "id": "cfe1e8ea",
   "metadata": {},
   "source": [
    "#### Exercice : Calcul des indicateurs"
   ]
  },
  {
   "cell_type": "code",
   "execution_count": 129,
   "id": "b690fbd9",
   "metadata": {},
   "outputs": [],
   "source": [
    "def mean(dat: list) -> float:\n",
    "    res = 0\n",
    "    for valeur in dat:\n",
    "        res += valeur\n",
    "    return res/len(dat)"
   ]
  },
  {
   "cell_type": "code",
   "execution_count": null,
   "id": "0107c154",
   "metadata": {},
   "outputs": [],
   "source": [
    "def quantile(dat: list, p: int) -> float:\n",
    "    "
   ]
  },
  {
   "cell_type": "code",
   "execution_count": null,
   "id": "db98585a",
   "metadata": {},
   "outputs": [],
   "source": [
    "def median(dat: list, p: int) -> float:\n",
    "    "
   ]
  },
  {
   "cell_type": "code",
   "execution_count": 133,
   "id": "084502cd",
   "metadata": {},
   "outputs": [],
   "source": [
    "def valrange(dat: list) -> float:\n",
    "    return max(dat) - min(dat)"
   ]
  },
  {
   "cell_type": "code",
   "execution_count": null,
   "id": "a1d6c9e3",
   "metadata": {},
   "outputs": [],
   "source": []
  },
  {
   "cell_type": "code",
   "execution_count": null,
   "id": "57928ec3",
   "metadata": {},
   "outputs": [],
   "source": []
  },
  {
   "cell_type": "code",
   "execution_count": null,
   "id": "6d50ed58",
   "metadata": {},
   "outputs": [],
   "source": []
  },
  {
   "cell_type": "code",
   "execution_count": 134,
   "id": "e3fbd975",
   "metadata": {},
   "outputs": [
    {
     "name": "stdout",
     "output_type": "stream",
     "text": [
      "Moyenne         :  11.94\n"
     ]
    },
    {
     "ename": "NameError",
     "evalue": "name 'median' is not defined",
     "output_type": "error",
     "traceback": [
      "\u001b[0;31m---------------------------------------------------------------------------\u001b[0m",
      "\u001b[0;31mNameError\u001b[0m                                 Traceback (most recent call last)",
      "Input \u001b[0;32mIn [134]\u001b[0m, in \u001b[0;36m<module>\u001b[0;34m\u001b[0m\n\u001b[1;32m      5\u001b[0m \u001b[38;5;66;03m# Affichage des inficateurs\u001b[39;00m\n\u001b[1;32m      6\u001b[0m \u001b[38;5;28mprint\u001b[39m(\u001b[38;5;124m\"\u001b[39m\u001b[38;5;124mMoyenne         : \u001b[39m\u001b[38;5;124m\"\u001b[39m,\u001b[38;5;28mround\u001b[39m(mean(data),\u001b[38;5;241m2\u001b[39m))\n\u001b[0;32m----> 7\u001b[0m \u001b[38;5;28mprint\u001b[39m(\u001b[38;5;124m\"\u001b[39m\u001b[38;5;124mMédiane         : \u001b[39m\u001b[38;5;124m\"\u001b[39m,\u001b[38;5;28mround\u001b[39m(\u001b[43mmedian\u001b[49m(data),\u001b[38;5;241m2\u001b[39m))\n\u001b[1;32m      8\u001b[0m \u001b[38;5;28mprint\u001b[39m(\u001b[38;5;124m\"\u001b[39m\u001b[38;5;124mÉcart-type      : \u001b[39m\u001b[38;5;124m\"\u001b[39m,\u001b[38;5;28mround\u001b[39m(stdev(data),\u001b[38;5;241m2\u001b[39m))\n\u001b[1;32m      9\u001b[0m \u001b[38;5;28mprint\u001b[39m(\u001b[38;5;124m\"\u001b[39m\u001b[38;5;124mCoef. de var.   : \u001b[39m\u001b[38;5;124m\"\u001b[39m,\u001b[38;5;28mround\u001b[39m(cofvar(data),\u001b[38;5;241m2\u001b[39m))\n",
      "\u001b[0;31mNameError\u001b[0m: name 'median' is not defined"
     ]
    }
   ],
   "source": [
    "# Génération de données aléatoires\n",
    "import random\n",
    "data = [round(random.random()*20,2) for _ in range(25)]\n",
    "\n",
    "# Affichage des inficateurs\n",
    "print(\"Moyenne         : \",round(mean(data),2))\n",
    "print(\"Médiane         : \",round(median(data),2))\n",
    "print(\"Écart-type      : \",round(stdev(data),2))\n",
    "print(\"Coef. de var.   : \",round(cofvar(data),2))\n",
    "print(\"Étendue         : \",round(valrange(data),2))\n",
    "print(\"Éc. interquart. : \",round(iquarange(data),2))\n",
    "print(\"Prem.  quartile : \",round(quantile(data,0.25),2))\n",
    "print(\"Trois. quartile : \",round(quantile(data,0.75),2))"
   ]
  },
  {
   "cell_type": "code",
   "execution_count": null,
   "id": "b0ac6f6b",
   "metadata": {},
   "outputs": [],
   "source": []
  }
 ],
 "metadata": {
  "kernelspec": {
   "display_name": "Python 3 (ipykernel)",
   "language": "python",
   "name": "python3"
  },
  "language_info": {
   "codemirror_mode": {
    "name": "ipython",
    "version": 3
   },
   "file_extension": ".py",
   "mimetype": "text/x-python",
   "name": "python",
   "nbconvert_exporter": "python",
   "pygments_lexer": "ipython3",
   "version": "3.8.10"
  }
 },
 "nbformat": 4,
 "nbformat_minor": 5
}
